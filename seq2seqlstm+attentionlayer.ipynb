{
  "nbformat": 4,
  "nbformat_minor": 0,
  "metadata": {
    "colab": {
      "provenance": []
    },
    "kernelspec": {
      "name": "python3",
      "display_name": "Python 3"
    },
    "language_info": {
      "name": "python"
    }
  },
  "cells": [
    {
      "cell_type": "markdown",
      "source": [
        "Libraries"
      ],
      "metadata": {
        "id": "Xv4tW63iFeKl"
      }
    },
    {
      "cell_type": "code",
      "source": [
        "import pandas as pd\n",
        "from sklearn.model_selection import train_test_split\n",
        "from keras.preprocessing.sequence import TimeseriesGenerator\n",
        "from sklearn.preprocessing import MinMaxScaler , StandardScaler\n",
        "import tensorflow as tf\n",
        "import matplotlib.pyplot as plt\n",
        "import seaborn as sns"
      ],
      "metadata": {
        "id": "mJ9MeeBEFbLU"
      },
      "execution_count": 1,
      "outputs": []
    },
    {
      "cell_type": "markdown",
      "source": [
        "Read data "
      ],
      "metadata": {
        "id": "boqGyYjmFPhf"
      }
    },
    {
      "cell_type": "code",
      "execution_count": 2,
      "metadata": {
        "colab": {
          "base_uri": "https://localhost:8080/"
        },
        "id": "RfLaBZCk3uGN",
        "outputId": "18b84964-c72a-4c4c-e20e-9a7f36e8849c"
      },
      "outputs": [
        {
          "output_type": "stream",
          "name": "stderr",
          "text": [
            "<ipython-input-2-88db98cd03e7>:4: FutureWarning: In a future version of pandas all arguments of DataFrame.drop except for the argument 'labels' will be keyword-only\n",
            "  dataset=data.set_index(data['Date'], drop=False, append=False, inplace=False, verify_integrity=False).drop('Date', 1)\n"
          ]
        }
      ],
      "source": [
        "#import pandas as pd\n",
        "data=pd.read_csv(\"Random Forest results.CSV\" )\n",
        "data['Date'] = pd.to_datetime(data['Date'])\n",
        "dataset=data.set_index(data['Date'], drop=False, append=False, inplace=False, verify_integrity=False).drop('Date', 1)\n",
        "#dataset.head(2)\n",
        "#data"
      ]
    },
    {
      "cell_type": "markdown",
      "source": [
        "Add year & month column\n",
        "\n",
        "✈ 🏸 Feature engineering"
      ],
      "metadata": {
        "id": "U8yPX_NFur17"
      }
    },
    {
      "cell_type": "code",
      "source": [
        "#['year'] = pd.DatetimeIndex(df2['Date']).year\n",
        "data['month'] = pd.DatetimeIndex(data['Date']).month\n",
        "data['day'] = pd.DatetimeIndex(data['Date']).day\n",
        "data.head(2)"
      ],
      "metadata": {
        "colab": {
          "base_uri": "https://localhost:8080/",
          "height": 211
        },
        "id": "-n0BjQu5NcAx",
        "outputId": "cbe27148-a696-4bb7-a013-f10de5b6766f"
      },
      "execution_count": 3,
      "outputs": [
        {
          "output_type": "execute_result",
          "data": {
            "text/plain": [
              "                 Date    Load    LBMP         DI        WC  wetbulb  T2MWET  \\\n",
              "0 2016-01-01 00:00:00  4894.5  213.20  37.974654  2.616960     1.30    2.00   \n",
              "1 2016-01-01 01:00:00  4712.7   19.08  37.706599  2.621161     1.01    1.76   \n",
              "\n",
              "   winddirection  ALLSKY_SFC_SW_DWN  ALLSKY_SFC_UVA  ALLSKY_SFC_UV_INDEX  \\\n",
              "0         300.90                0.0             0.0                  0.0   \n",
              "1         298.94                0.0             0.0                  0.0   \n",
              "\n",
              "   specifichumidity      PS  month  day  \n",
              "0              4.15  101.28      1    1  \n",
              "1              4.03  101.27      1    1  "
            ],
            "text/html": [
              "\n",
              "  <div id=\"df-f32134fb-40a5-402d-b95d-884ddac4e6e5\">\n",
              "    <div class=\"colab-df-container\">\n",
              "      <div>\n",
              "<style scoped>\n",
              "    .dataframe tbody tr th:only-of-type {\n",
              "        vertical-align: middle;\n",
              "    }\n",
              "\n",
              "    .dataframe tbody tr th {\n",
              "        vertical-align: top;\n",
              "    }\n",
              "\n",
              "    .dataframe thead th {\n",
              "        text-align: right;\n",
              "    }\n",
              "</style>\n",
              "<table border=\"1\" class=\"dataframe\">\n",
              "  <thead>\n",
              "    <tr style=\"text-align: right;\">\n",
              "      <th></th>\n",
              "      <th>Date</th>\n",
              "      <th>Load</th>\n",
              "      <th>LBMP</th>\n",
              "      <th>DI</th>\n",
              "      <th>WC</th>\n",
              "      <th>wetbulb</th>\n",
              "      <th>T2MWET</th>\n",
              "      <th>winddirection</th>\n",
              "      <th>ALLSKY_SFC_SW_DWN</th>\n",
              "      <th>ALLSKY_SFC_UVA</th>\n",
              "      <th>ALLSKY_SFC_UV_INDEX</th>\n",
              "      <th>specifichumidity</th>\n",
              "      <th>PS</th>\n",
              "      <th>month</th>\n",
              "      <th>day</th>\n",
              "    </tr>\n",
              "  </thead>\n",
              "  <tbody>\n",
              "    <tr>\n",
              "      <th>0</th>\n",
              "      <td>2016-01-01 00:00:00</td>\n",
              "      <td>4894.5</td>\n",
              "      <td>213.20</td>\n",
              "      <td>37.974654</td>\n",
              "      <td>2.616960</td>\n",
              "      <td>1.30</td>\n",
              "      <td>2.00</td>\n",
              "      <td>300.90</td>\n",
              "      <td>0.0</td>\n",
              "      <td>0.0</td>\n",
              "      <td>0.0</td>\n",
              "      <td>4.15</td>\n",
              "      <td>101.28</td>\n",
              "      <td>1</td>\n",
              "      <td>1</td>\n",
              "    </tr>\n",
              "    <tr>\n",
              "      <th>1</th>\n",
              "      <td>2016-01-01 01:00:00</td>\n",
              "      <td>4712.7</td>\n",
              "      <td>19.08</td>\n",
              "      <td>37.706599</td>\n",
              "      <td>2.621161</td>\n",
              "      <td>1.01</td>\n",
              "      <td>1.76</td>\n",
              "      <td>298.94</td>\n",
              "      <td>0.0</td>\n",
              "      <td>0.0</td>\n",
              "      <td>0.0</td>\n",
              "      <td>4.03</td>\n",
              "      <td>101.27</td>\n",
              "      <td>1</td>\n",
              "      <td>1</td>\n",
              "    </tr>\n",
              "  </tbody>\n",
              "</table>\n",
              "</div>\n",
              "      <button class=\"colab-df-convert\" onclick=\"convertToInteractive('df-f32134fb-40a5-402d-b95d-884ddac4e6e5')\"\n",
              "              title=\"Convert this dataframe to an interactive table.\"\n",
              "              style=\"display:none;\">\n",
              "        \n",
              "  <svg xmlns=\"http://www.w3.org/2000/svg\" height=\"24px\"viewBox=\"0 0 24 24\"\n",
              "       width=\"24px\">\n",
              "    <path d=\"M0 0h24v24H0V0z\" fill=\"none\"/>\n",
              "    <path d=\"M18.56 5.44l.94 2.06.94-2.06 2.06-.94-2.06-.94-.94-2.06-.94 2.06-2.06.94zm-11 1L8.5 8.5l.94-2.06 2.06-.94-2.06-.94L8.5 2.5l-.94 2.06-2.06.94zm10 10l.94 2.06.94-2.06 2.06-.94-2.06-.94-.94-2.06-.94 2.06-2.06.94z\"/><path d=\"M17.41 7.96l-1.37-1.37c-.4-.4-.92-.59-1.43-.59-.52 0-1.04.2-1.43.59L10.3 9.45l-7.72 7.72c-.78.78-.78 2.05 0 2.83L4 21.41c.39.39.9.59 1.41.59.51 0 1.02-.2 1.41-.59l7.78-7.78 2.81-2.81c.8-.78.8-2.07 0-2.86zM5.41 20L4 18.59l7.72-7.72 1.47 1.35L5.41 20z\"/>\n",
              "  </svg>\n",
              "      </button>\n",
              "      \n",
              "  <style>\n",
              "    .colab-df-container {\n",
              "      display:flex;\n",
              "      flex-wrap:wrap;\n",
              "      gap: 12px;\n",
              "    }\n",
              "\n",
              "    .colab-df-convert {\n",
              "      background-color: #E8F0FE;\n",
              "      border: none;\n",
              "      border-radius: 50%;\n",
              "      cursor: pointer;\n",
              "      display: none;\n",
              "      fill: #1967D2;\n",
              "      height: 32px;\n",
              "      padding: 0 0 0 0;\n",
              "      width: 32px;\n",
              "    }\n",
              "\n",
              "    .colab-df-convert:hover {\n",
              "      background-color: #E2EBFA;\n",
              "      box-shadow: 0px 1px 2px rgba(60, 64, 67, 0.3), 0px 1px 3px 1px rgba(60, 64, 67, 0.15);\n",
              "      fill: #174EA6;\n",
              "    }\n",
              "\n",
              "    [theme=dark] .colab-df-convert {\n",
              "      background-color: #3B4455;\n",
              "      fill: #D2E3FC;\n",
              "    }\n",
              "\n",
              "    [theme=dark] .colab-df-convert:hover {\n",
              "      background-color: #434B5C;\n",
              "      box-shadow: 0px 1px 3px 1px rgba(0, 0, 0, 0.15);\n",
              "      filter: drop-shadow(0px 1px 2px rgba(0, 0, 0, 0.3));\n",
              "      fill: #FFFFFF;\n",
              "    }\n",
              "  </style>\n",
              "\n",
              "      <script>\n",
              "        const buttonEl =\n",
              "          document.querySelector('#df-f32134fb-40a5-402d-b95d-884ddac4e6e5 button.colab-df-convert');\n",
              "        buttonEl.style.display =\n",
              "          google.colab.kernel.accessAllowed ? 'block' : 'none';\n",
              "\n",
              "        async function convertToInteractive(key) {\n",
              "          const element = document.querySelector('#df-f32134fb-40a5-402d-b95d-884ddac4e6e5');\n",
              "          const dataTable =\n",
              "            await google.colab.kernel.invokeFunction('convertToInteractive',\n",
              "                                                     [key], {});\n",
              "          if (!dataTable) return;\n",
              "\n",
              "          const docLinkHtml = 'Like what you see? Visit the ' +\n",
              "            '<a target=\"_blank\" href=https://colab.research.google.com/notebooks/data_table.ipynb>data table notebook</a>'\n",
              "            + ' to learn more about interactive tables.';\n",
              "          element.innerHTML = '';\n",
              "          dataTable['output_type'] = 'display_data';\n",
              "          await google.colab.output.renderOutput(dataTable, element);\n",
              "          const docLink = document.createElement('div');\n",
              "          docLink.innerHTML = docLinkHtml;\n",
              "          element.appendChild(docLink);\n",
              "        }\n",
              "      </script>\n",
              "    </div>\n",
              "  </div>\n",
              "  "
            ]
          },
          "metadata": {},
          "execution_count": 3
        }
      ]
    },
    {
      "cell_type": "markdown",
      "source": [
        "onehot_encode_integers & nomrlize load data\n",
        "\n",
        "✈ 🏸 Special one hot encoding for time-series data\n",
        "\n",
        "✈ 🏸 MinMaxScalar"
      ],
      "metadata": {
        "id": "GbyeQpILFrlf"
      }
    },
    {
      "cell_type": "code",
      "source": [
        "def select_columns(df):\n",
        "  cols_to_keep = [       \n",
        "      'Load',\n",
        "      'LBMP',\n",
        "      'month',\n",
        "      'day',\n",
        "\n",
        "  ]\n",
        "  df_subset = df[cols_to_keep]\n",
        "  return df_subset\n",
        "\n",
        "def onehot_encode_integers(df, excluded_cols):\n",
        "  df = df.copy()\n",
        "\n",
        "  int_cols = [col for col in df.select_dtypes(include=['int'])\n",
        "              if col not in excluded_cols]\n",
        "\n",
        "  df.loc[:,int_cols] = df.loc[:,int_cols].astype('str')\n",
        "\n",
        "  df_encoded = pd.get_dummies(df)\n",
        "  return df_encoded\n",
        "\n",
        "def normalize_cnt(df):\n",
        "    df = df.copy()\n",
        "    df['Load'] = df['Load'] / df['Load'].max()\n",
        "    df['LBMP'] = df['LBMP'] / df['LBMP'].max()\n",
        "\n",
        "    return df"
      ],
      "metadata": {
        "id": "5PW1eSvk6xW5"
      },
      "execution_count": 4,
      "outputs": []
    },
    {
      "cell_type": "code",
      "source": [
        "mydata = (data\n",
        "           .pipe(select_columns)\n",
        "           .pipe(onehot_encode_integers, \n",
        "                 excluded_cols=['cnt'])\n",
        "           .pipe(normalize_cnt)\n",
        ")"
      ],
      "metadata": {
        "id": "eKZIRF6gN-g6"
      },
      "execution_count": 5,
      "outputs": []
    },
    {
      "cell_type": "code",
      "source": [
        "mydata.head(2)"
      ],
      "metadata": {
        "colab": {
          "base_uri": "https://localhost:8080/",
          "height": 205
        },
        "id": "kTS63rmn6_wb",
        "outputId": "d65d634d-af53-4779-a57f-9b749abfac60"
      },
      "execution_count": 6,
      "outputs": [
        {
          "output_type": "execute_result",
          "data": {
            "text/plain": [
              "       Load      LBMP  month_1  month_10  month_11  month_12  month_2  \\\n",
              "0  0.442153  0.115957        1         0         0         0        0   \n",
              "1  0.425730  0.010377        1         0         0         0        0   \n",
              "\n",
              "   month_3  month_4  month_5  ...  day_29  day_3  day_30  day_31  day_4  \\\n",
              "0        0        0        0  ...       0      0       0       0      0   \n",
              "1        0        0        0  ...       0      0       0       0      0   \n",
              "\n",
              "   day_5  day_6  day_7  day_8  day_9  \n",
              "0      0      0      0      0      0  \n",
              "1      0      0      0      0      0  \n",
              "\n",
              "[2 rows x 45 columns]"
            ],
            "text/html": [
              "\n",
              "  <div id=\"df-205f0200-b2fb-4167-8ab6-3f0e1e6a6378\">\n",
              "    <div class=\"colab-df-container\">\n",
              "      <div>\n",
              "<style scoped>\n",
              "    .dataframe tbody tr th:only-of-type {\n",
              "        vertical-align: middle;\n",
              "    }\n",
              "\n",
              "    .dataframe tbody tr th {\n",
              "        vertical-align: top;\n",
              "    }\n",
              "\n",
              "    .dataframe thead th {\n",
              "        text-align: right;\n",
              "    }\n",
              "</style>\n",
              "<table border=\"1\" class=\"dataframe\">\n",
              "  <thead>\n",
              "    <tr style=\"text-align: right;\">\n",
              "      <th></th>\n",
              "      <th>Load</th>\n",
              "      <th>LBMP</th>\n",
              "      <th>month_1</th>\n",
              "      <th>month_10</th>\n",
              "      <th>month_11</th>\n",
              "      <th>month_12</th>\n",
              "      <th>month_2</th>\n",
              "      <th>month_3</th>\n",
              "      <th>month_4</th>\n",
              "      <th>month_5</th>\n",
              "      <th>...</th>\n",
              "      <th>day_29</th>\n",
              "      <th>day_3</th>\n",
              "      <th>day_30</th>\n",
              "      <th>day_31</th>\n",
              "      <th>day_4</th>\n",
              "      <th>day_5</th>\n",
              "      <th>day_6</th>\n",
              "      <th>day_7</th>\n",
              "      <th>day_8</th>\n",
              "      <th>day_9</th>\n",
              "    </tr>\n",
              "  </thead>\n",
              "  <tbody>\n",
              "    <tr>\n",
              "      <th>0</th>\n",
              "      <td>0.442153</td>\n",
              "      <td>0.115957</td>\n",
              "      <td>1</td>\n",
              "      <td>0</td>\n",
              "      <td>0</td>\n",
              "      <td>0</td>\n",
              "      <td>0</td>\n",
              "      <td>0</td>\n",
              "      <td>0</td>\n",
              "      <td>0</td>\n",
              "      <td>...</td>\n",
              "      <td>0</td>\n",
              "      <td>0</td>\n",
              "      <td>0</td>\n",
              "      <td>0</td>\n",
              "      <td>0</td>\n",
              "      <td>0</td>\n",
              "      <td>0</td>\n",
              "      <td>0</td>\n",
              "      <td>0</td>\n",
              "      <td>0</td>\n",
              "    </tr>\n",
              "    <tr>\n",
              "      <th>1</th>\n",
              "      <td>0.425730</td>\n",
              "      <td>0.010377</td>\n",
              "      <td>1</td>\n",
              "      <td>0</td>\n",
              "      <td>0</td>\n",
              "      <td>0</td>\n",
              "      <td>0</td>\n",
              "      <td>0</td>\n",
              "      <td>0</td>\n",
              "      <td>0</td>\n",
              "      <td>...</td>\n",
              "      <td>0</td>\n",
              "      <td>0</td>\n",
              "      <td>0</td>\n",
              "      <td>0</td>\n",
              "      <td>0</td>\n",
              "      <td>0</td>\n",
              "      <td>0</td>\n",
              "      <td>0</td>\n",
              "      <td>0</td>\n",
              "      <td>0</td>\n",
              "    </tr>\n",
              "  </tbody>\n",
              "</table>\n",
              "<p>2 rows × 45 columns</p>\n",
              "</div>\n",
              "      <button class=\"colab-df-convert\" onclick=\"convertToInteractive('df-205f0200-b2fb-4167-8ab6-3f0e1e6a6378')\"\n",
              "              title=\"Convert this dataframe to an interactive table.\"\n",
              "              style=\"display:none;\">\n",
              "        \n",
              "  <svg xmlns=\"http://www.w3.org/2000/svg\" height=\"24px\"viewBox=\"0 0 24 24\"\n",
              "       width=\"24px\">\n",
              "    <path d=\"M0 0h24v24H0V0z\" fill=\"none\"/>\n",
              "    <path d=\"M18.56 5.44l.94 2.06.94-2.06 2.06-.94-2.06-.94-.94-2.06-.94 2.06-2.06.94zm-11 1L8.5 8.5l.94-2.06 2.06-.94-2.06-.94L8.5 2.5l-.94 2.06-2.06.94zm10 10l.94 2.06.94-2.06 2.06-.94-2.06-.94-.94-2.06-.94 2.06-2.06.94z\"/><path d=\"M17.41 7.96l-1.37-1.37c-.4-.4-.92-.59-1.43-.59-.52 0-1.04.2-1.43.59L10.3 9.45l-7.72 7.72c-.78.78-.78 2.05 0 2.83L4 21.41c.39.39.9.59 1.41.59.51 0 1.02-.2 1.41-.59l7.78-7.78 2.81-2.81c.8-.78.8-2.07 0-2.86zM5.41 20L4 18.59l7.72-7.72 1.47 1.35L5.41 20z\"/>\n",
              "  </svg>\n",
              "      </button>\n",
              "      \n",
              "  <style>\n",
              "    .colab-df-container {\n",
              "      display:flex;\n",
              "      flex-wrap:wrap;\n",
              "      gap: 12px;\n",
              "    }\n",
              "\n",
              "    .colab-df-convert {\n",
              "      background-color: #E8F0FE;\n",
              "      border: none;\n",
              "      border-radius: 50%;\n",
              "      cursor: pointer;\n",
              "      display: none;\n",
              "      fill: #1967D2;\n",
              "      height: 32px;\n",
              "      padding: 0 0 0 0;\n",
              "      width: 32px;\n",
              "    }\n",
              "\n",
              "    .colab-df-convert:hover {\n",
              "      background-color: #E2EBFA;\n",
              "      box-shadow: 0px 1px 2px rgba(60, 64, 67, 0.3), 0px 1px 3px 1px rgba(60, 64, 67, 0.15);\n",
              "      fill: #174EA6;\n",
              "    }\n",
              "\n",
              "    [theme=dark] .colab-df-convert {\n",
              "      background-color: #3B4455;\n",
              "      fill: #D2E3FC;\n",
              "    }\n",
              "\n",
              "    [theme=dark] .colab-df-convert:hover {\n",
              "      background-color: #434B5C;\n",
              "      box-shadow: 0px 1px 3px 1px rgba(0, 0, 0, 0.15);\n",
              "      filter: drop-shadow(0px 1px 2px rgba(0, 0, 0, 0.3));\n",
              "      fill: #FFFFFF;\n",
              "    }\n",
              "  </style>\n",
              "\n",
              "      <script>\n",
              "        const buttonEl =\n",
              "          document.querySelector('#df-205f0200-b2fb-4167-8ab6-3f0e1e6a6378 button.colab-df-convert');\n",
              "        buttonEl.style.display =\n",
              "          google.colab.kernel.accessAllowed ? 'block' : 'none';\n",
              "\n",
              "        async function convertToInteractive(key) {\n",
              "          const element = document.querySelector('#df-205f0200-b2fb-4167-8ab6-3f0e1e6a6378');\n",
              "          const dataTable =\n",
              "            await google.colab.kernel.invokeFunction('convertToInteractive',\n",
              "                                                     [key], {});\n",
              "          if (!dataTable) return;\n",
              "\n",
              "          const docLinkHtml = 'Like what you see? Visit the ' +\n",
              "            '<a target=\"_blank\" href=https://colab.research.google.com/notebooks/data_table.ipynb>data table notebook</a>'\n",
              "            + ' to learn more about interactive tables.';\n",
              "          element.innerHTML = '';\n",
              "          dataTable['output_type'] = 'display_data';\n",
              "          await google.colab.output.renderOutput(dataTable, element);\n",
              "          const docLink = document.createElement('div');\n",
              "          docLink.innerHTML = docLinkHtml;\n",
              "          element.appendChild(docLink);\n",
              "        }\n",
              "      </script>\n",
              "    </div>\n",
              "  </div>\n",
              "  "
            ]
          },
          "metadata": {},
          "execution_count": 6
        }
      ]
    },
    {
      "cell_type": "markdown",
      "source": [],
      "metadata": {
        "id": "9tWMtf8Xvr4s"
      }
    },
    {
      "cell_type": "code",
      "metadata": {
        "id": "zyyM0u5q4t7q"
      },
      "source": [
        "def create_dataset(df, n_deterministic_features, \n",
        "                   window_size, forecast_size, \n",
        "                   batch_size):\n",
        "  # Feel free to play with shuffle buffer size\n",
        "  shuffle_buffer_size = len(df)\n",
        "  # Total size of window is given by the number of steps to be considered\n",
        "  # before prediction time + steps that we want to forecast\n",
        "  total_size = window_size + forecast_size\n",
        "\n",
        "  data = tf.data.Dataset.from_tensor_slices(df.values)\n",
        "\n",
        "  # Selecting windows\n",
        "  data = data.window(total_size, shift=1, drop_remainder=True)\n",
        "  data = data.flat_map(lambda k: k.batch(total_size))\n",
        "\n",
        "  # Shuffling data (seed=Answer to the Ultimate Question of Life, the Universe, and Everything)\n",
        "  data = data.shuffle(shuffle_buffer_size, seed=42)\n",
        "\n",
        "  # Extracting past features + deterministic future + labels\n",
        "  data = data.map(lambda k: ((k[:-forecast_size],\n",
        "                             k[-forecast_size:,-n_deterministic_features:]),\n",
        "                             k[-forecast_size:,0]))\n",
        "  \n",
        "  return data.batch(batch_size).prefetch(tf.data.experimental.AUTOTUNE)"
      ],
      "execution_count": 7,
      "outputs": []
    },
    {
      "cell_type": "code",
      "source": [
        "mydata"
      ],
      "metadata": {
        "colab": {
          "base_uri": "https://localhost:8080/",
          "height": 488
        },
        "id": "gqlRtOmLOPwP",
        "outputId": "059834ff-6374-428f-c902-5000a56a5310"
      },
      "execution_count": 8,
      "outputs": [
        {
          "output_type": "execute_result",
          "data": {
            "text/plain": [
              "           Load      LBMP  month_1  month_10  month_11  month_12  month_2  \\\n",
              "0      0.442153  0.115957        1         0         0         0        0   \n",
              "1      0.425730  0.010377        1         0         0         0        0   \n",
              "2      0.407455  0.013303        1         0         0         0        0   \n",
              "3      0.394627  0.006195        1         0         0         0        0   \n",
              "4      0.387255  0.001077        1         0         0         0        0   \n",
              "...         ...       ...      ...       ...       ...       ...      ...   \n",
              "35035  0.560078  0.013238        0         0         0         1        0   \n",
              "35036  0.541758  0.011204        0         0         0         1        0   \n",
              "35037  0.523366  0.011617        0         0         0         1        0   \n",
              "35038  0.497322  0.011655        0         0         0         1        0   \n",
              "35039  0.468730  0.011655        0         0         0         1        0   \n",
              "\n",
              "       month_3  month_4  month_5  ...  day_29  day_3  day_30  day_31  day_4  \\\n",
              "0            0        0        0  ...       0      0       0       0      0   \n",
              "1            0        0        0  ...       0      0       0       0      0   \n",
              "2            0        0        0  ...       0      0       0       0      0   \n",
              "3            0        0        0  ...       0      0       0       0      0   \n",
              "4            0        0        0  ...       0      0       0       0      0   \n",
              "...        ...      ...      ...  ...     ...    ...     ...     ...    ...   \n",
              "35035        0        0        0  ...       0      0       1       0      0   \n",
              "35036        0        0        0  ...       0      0       1       0      0   \n",
              "35037        0        0        0  ...       0      0       1       0      0   \n",
              "35038        0        0        0  ...       0      0       1       0      0   \n",
              "35039        0        0        0  ...       0      0       1       0      0   \n",
              "\n",
              "       day_5  day_6  day_7  day_8  day_9  \n",
              "0          0      0      0      0      0  \n",
              "1          0      0      0      0      0  \n",
              "2          0      0      0      0      0  \n",
              "3          0      0      0      0      0  \n",
              "4          0      0      0      0      0  \n",
              "...      ...    ...    ...    ...    ...  \n",
              "35035      0      0      0      0      0  \n",
              "35036      0      0      0      0      0  \n",
              "35037      0      0      0      0      0  \n",
              "35038      0      0      0      0      0  \n",
              "35039      0      0      0      0      0  \n",
              "\n",
              "[35040 rows x 45 columns]"
            ],
            "text/html": [
              "\n",
              "  <div id=\"df-fe4ebc85-1079-46f6-9ada-0718fdb7902d\">\n",
              "    <div class=\"colab-df-container\">\n",
              "      <div>\n",
              "<style scoped>\n",
              "    .dataframe tbody tr th:only-of-type {\n",
              "        vertical-align: middle;\n",
              "    }\n",
              "\n",
              "    .dataframe tbody tr th {\n",
              "        vertical-align: top;\n",
              "    }\n",
              "\n",
              "    .dataframe thead th {\n",
              "        text-align: right;\n",
              "    }\n",
              "</style>\n",
              "<table border=\"1\" class=\"dataframe\">\n",
              "  <thead>\n",
              "    <tr style=\"text-align: right;\">\n",
              "      <th></th>\n",
              "      <th>Load</th>\n",
              "      <th>LBMP</th>\n",
              "      <th>month_1</th>\n",
              "      <th>month_10</th>\n",
              "      <th>month_11</th>\n",
              "      <th>month_12</th>\n",
              "      <th>month_2</th>\n",
              "      <th>month_3</th>\n",
              "      <th>month_4</th>\n",
              "      <th>month_5</th>\n",
              "      <th>...</th>\n",
              "      <th>day_29</th>\n",
              "      <th>day_3</th>\n",
              "      <th>day_30</th>\n",
              "      <th>day_31</th>\n",
              "      <th>day_4</th>\n",
              "      <th>day_5</th>\n",
              "      <th>day_6</th>\n",
              "      <th>day_7</th>\n",
              "      <th>day_8</th>\n",
              "      <th>day_9</th>\n",
              "    </tr>\n",
              "  </thead>\n",
              "  <tbody>\n",
              "    <tr>\n",
              "      <th>0</th>\n",
              "      <td>0.442153</td>\n",
              "      <td>0.115957</td>\n",
              "      <td>1</td>\n",
              "      <td>0</td>\n",
              "      <td>0</td>\n",
              "      <td>0</td>\n",
              "      <td>0</td>\n",
              "      <td>0</td>\n",
              "      <td>0</td>\n",
              "      <td>0</td>\n",
              "      <td>...</td>\n",
              "      <td>0</td>\n",
              "      <td>0</td>\n",
              "      <td>0</td>\n",
              "      <td>0</td>\n",
              "      <td>0</td>\n",
              "      <td>0</td>\n",
              "      <td>0</td>\n",
              "      <td>0</td>\n",
              "      <td>0</td>\n",
              "      <td>0</td>\n",
              "    </tr>\n",
              "    <tr>\n",
              "      <th>1</th>\n",
              "      <td>0.425730</td>\n",
              "      <td>0.010377</td>\n",
              "      <td>1</td>\n",
              "      <td>0</td>\n",
              "      <td>0</td>\n",
              "      <td>0</td>\n",
              "      <td>0</td>\n",
              "      <td>0</td>\n",
              "      <td>0</td>\n",
              "      <td>0</td>\n",
              "      <td>...</td>\n",
              "      <td>0</td>\n",
              "      <td>0</td>\n",
              "      <td>0</td>\n",
              "      <td>0</td>\n",
              "      <td>0</td>\n",
              "      <td>0</td>\n",
              "      <td>0</td>\n",
              "      <td>0</td>\n",
              "      <td>0</td>\n",
              "      <td>0</td>\n",
              "    </tr>\n",
              "    <tr>\n",
              "      <th>2</th>\n",
              "      <td>0.407455</td>\n",
              "      <td>0.013303</td>\n",
              "      <td>1</td>\n",
              "      <td>0</td>\n",
              "      <td>0</td>\n",
              "      <td>0</td>\n",
              "      <td>0</td>\n",
              "      <td>0</td>\n",
              "      <td>0</td>\n",
              "      <td>0</td>\n",
              "      <td>...</td>\n",
              "      <td>0</td>\n",
              "      <td>0</td>\n",
              "      <td>0</td>\n",
              "      <td>0</td>\n",
              "      <td>0</td>\n",
              "      <td>0</td>\n",
              "      <td>0</td>\n",
              "      <td>0</td>\n",
              "      <td>0</td>\n",
              "      <td>0</td>\n",
              "    </tr>\n",
              "    <tr>\n",
              "      <th>3</th>\n",
              "      <td>0.394627</td>\n",
              "      <td>0.006195</td>\n",
              "      <td>1</td>\n",
              "      <td>0</td>\n",
              "      <td>0</td>\n",
              "      <td>0</td>\n",
              "      <td>0</td>\n",
              "      <td>0</td>\n",
              "      <td>0</td>\n",
              "      <td>0</td>\n",
              "      <td>...</td>\n",
              "      <td>0</td>\n",
              "      <td>0</td>\n",
              "      <td>0</td>\n",
              "      <td>0</td>\n",
              "      <td>0</td>\n",
              "      <td>0</td>\n",
              "      <td>0</td>\n",
              "      <td>0</td>\n",
              "      <td>0</td>\n",
              "      <td>0</td>\n",
              "    </tr>\n",
              "    <tr>\n",
              "      <th>4</th>\n",
              "      <td>0.387255</td>\n",
              "      <td>0.001077</td>\n",
              "      <td>1</td>\n",
              "      <td>0</td>\n",
              "      <td>0</td>\n",
              "      <td>0</td>\n",
              "      <td>0</td>\n",
              "      <td>0</td>\n",
              "      <td>0</td>\n",
              "      <td>0</td>\n",
              "      <td>...</td>\n",
              "      <td>0</td>\n",
              "      <td>0</td>\n",
              "      <td>0</td>\n",
              "      <td>0</td>\n",
              "      <td>0</td>\n",
              "      <td>0</td>\n",
              "      <td>0</td>\n",
              "      <td>0</td>\n",
              "      <td>0</td>\n",
              "      <td>0</td>\n",
              "    </tr>\n",
              "    <tr>\n",
              "      <th>...</th>\n",
              "      <td>...</td>\n",
              "      <td>...</td>\n",
              "      <td>...</td>\n",
              "      <td>...</td>\n",
              "      <td>...</td>\n",
              "      <td>...</td>\n",
              "      <td>...</td>\n",
              "      <td>...</td>\n",
              "      <td>...</td>\n",
              "      <td>...</td>\n",
              "      <td>...</td>\n",
              "      <td>...</td>\n",
              "      <td>...</td>\n",
              "      <td>...</td>\n",
              "      <td>...</td>\n",
              "      <td>...</td>\n",
              "      <td>...</td>\n",
              "      <td>...</td>\n",
              "      <td>...</td>\n",
              "      <td>...</td>\n",
              "      <td>...</td>\n",
              "    </tr>\n",
              "    <tr>\n",
              "      <th>35035</th>\n",
              "      <td>0.560078</td>\n",
              "      <td>0.013238</td>\n",
              "      <td>0</td>\n",
              "      <td>0</td>\n",
              "      <td>0</td>\n",
              "      <td>1</td>\n",
              "      <td>0</td>\n",
              "      <td>0</td>\n",
              "      <td>0</td>\n",
              "      <td>0</td>\n",
              "      <td>...</td>\n",
              "      <td>0</td>\n",
              "      <td>0</td>\n",
              "      <td>1</td>\n",
              "      <td>0</td>\n",
              "      <td>0</td>\n",
              "      <td>0</td>\n",
              "      <td>0</td>\n",
              "      <td>0</td>\n",
              "      <td>0</td>\n",
              "      <td>0</td>\n",
              "    </tr>\n",
              "    <tr>\n",
              "      <th>35036</th>\n",
              "      <td>0.541758</td>\n",
              "      <td>0.011204</td>\n",
              "      <td>0</td>\n",
              "      <td>0</td>\n",
              "      <td>0</td>\n",
              "      <td>1</td>\n",
              "      <td>0</td>\n",
              "      <td>0</td>\n",
              "      <td>0</td>\n",
              "      <td>0</td>\n",
              "      <td>...</td>\n",
              "      <td>0</td>\n",
              "      <td>0</td>\n",
              "      <td>1</td>\n",
              "      <td>0</td>\n",
              "      <td>0</td>\n",
              "      <td>0</td>\n",
              "      <td>0</td>\n",
              "      <td>0</td>\n",
              "      <td>0</td>\n",
              "      <td>0</td>\n",
              "    </tr>\n",
              "    <tr>\n",
              "      <th>35037</th>\n",
              "      <td>0.523366</td>\n",
              "      <td>0.011617</td>\n",
              "      <td>0</td>\n",
              "      <td>0</td>\n",
              "      <td>0</td>\n",
              "      <td>1</td>\n",
              "      <td>0</td>\n",
              "      <td>0</td>\n",
              "      <td>0</td>\n",
              "      <td>0</td>\n",
              "      <td>...</td>\n",
              "      <td>0</td>\n",
              "      <td>0</td>\n",
              "      <td>1</td>\n",
              "      <td>0</td>\n",
              "      <td>0</td>\n",
              "      <td>0</td>\n",
              "      <td>0</td>\n",
              "      <td>0</td>\n",
              "      <td>0</td>\n",
              "      <td>0</td>\n",
              "    </tr>\n",
              "    <tr>\n",
              "      <th>35038</th>\n",
              "      <td>0.497322</td>\n",
              "      <td>0.011655</td>\n",
              "      <td>0</td>\n",
              "      <td>0</td>\n",
              "      <td>0</td>\n",
              "      <td>1</td>\n",
              "      <td>0</td>\n",
              "      <td>0</td>\n",
              "      <td>0</td>\n",
              "      <td>0</td>\n",
              "      <td>...</td>\n",
              "      <td>0</td>\n",
              "      <td>0</td>\n",
              "      <td>1</td>\n",
              "      <td>0</td>\n",
              "      <td>0</td>\n",
              "      <td>0</td>\n",
              "      <td>0</td>\n",
              "      <td>0</td>\n",
              "      <td>0</td>\n",
              "      <td>0</td>\n",
              "    </tr>\n",
              "    <tr>\n",
              "      <th>35039</th>\n",
              "      <td>0.468730</td>\n",
              "      <td>0.011655</td>\n",
              "      <td>0</td>\n",
              "      <td>0</td>\n",
              "      <td>0</td>\n",
              "      <td>1</td>\n",
              "      <td>0</td>\n",
              "      <td>0</td>\n",
              "      <td>0</td>\n",
              "      <td>0</td>\n",
              "      <td>...</td>\n",
              "      <td>0</td>\n",
              "      <td>0</td>\n",
              "      <td>1</td>\n",
              "      <td>0</td>\n",
              "      <td>0</td>\n",
              "      <td>0</td>\n",
              "      <td>0</td>\n",
              "      <td>0</td>\n",
              "      <td>0</td>\n",
              "      <td>0</td>\n",
              "    </tr>\n",
              "  </tbody>\n",
              "</table>\n",
              "<p>35040 rows × 45 columns</p>\n",
              "</div>\n",
              "      <button class=\"colab-df-convert\" onclick=\"convertToInteractive('df-fe4ebc85-1079-46f6-9ada-0718fdb7902d')\"\n",
              "              title=\"Convert this dataframe to an interactive table.\"\n",
              "              style=\"display:none;\">\n",
              "        \n",
              "  <svg xmlns=\"http://www.w3.org/2000/svg\" height=\"24px\"viewBox=\"0 0 24 24\"\n",
              "       width=\"24px\">\n",
              "    <path d=\"M0 0h24v24H0V0z\" fill=\"none\"/>\n",
              "    <path d=\"M18.56 5.44l.94 2.06.94-2.06 2.06-.94-2.06-.94-.94-2.06-.94 2.06-2.06.94zm-11 1L8.5 8.5l.94-2.06 2.06-.94-2.06-.94L8.5 2.5l-.94 2.06-2.06.94zm10 10l.94 2.06.94-2.06 2.06-.94-2.06-.94-.94-2.06-.94 2.06-2.06.94z\"/><path d=\"M17.41 7.96l-1.37-1.37c-.4-.4-.92-.59-1.43-.59-.52 0-1.04.2-1.43.59L10.3 9.45l-7.72 7.72c-.78.78-.78 2.05 0 2.83L4 21.41c.39.39.9.59 1.41.59.51 0 1.02-.2 1.41-.59l7.78-7.78 2.81-2.81c.8-.78.8-2.07 0-2.86zM5.41 20L4 18.59l7.72-7.72 1.47 1.35L5.41 20z\"/>\n",
              "  </svg>\n",
              "      </button>\n",
              "      \n",
              "  <style>\n",
              "    .colab-df-container {\n",
              "      display:flex;\n",
              "      flex-wrap:wrap;\n",
              "      gap: 12px;\n",
              "    }\n",
              "\n",
              "    .colab-df-convert {\n",
              "      background-color: #E8F0FE;\n",
              "      border: none;\n",
              "      border-radius: 50%;\n",
              "      cursor: pointer;\n",
              "      display: none;\n",
              "      fill: #1967D2;\n",
              "      height: 32px;\n",
              "      padding: 0 0 0 0;\n",
              "      width: 32px;\n",
              "    }\n",
              "\n",
              "    .colab-df-convert:hover {\n",
              "      background-color: #E2EBFA;\n",
              "      box-shadow: 0px 1px 2px rgba(60, 64, 67, 0.3), 0px 1px 3px 1px rgba(60, 64, 67, 0.15);\n",
              "      fill: #174EA6;\n",
              "    }\n",
              "\n",
              "    [theme=dark] .colab-df-convert {\n",
              "      background-color: #3B4455;\n",
              "      fill: #D2E3FC;\n",
              "    }\n",
              "\n",
              "    [theme=dark] .colab-df-convert:hover {\n",
              "      background-color: #434B5C;\n",
              "      box-shadow: 0px 1px 3px 1px rgba(0, 0, 0, 0.15);\n",
              "      filter: drop-shadow(0px 1px 2px rgba(0, 0, 0, 0.3));\n",
              "      fill: #FFFFFF;\n",
              "    }\n",
              "  </style>\n",
              "\n",
              "      <script>\n",
              "        const buttonEl =\n",
              "          document.querySelector('#df-fe4ebc85-1079-46f6-9ada-0718fdb7902d button.colab-df-convert');\n",
              "        buttonEl.style.display =\n",
              "          google.colab.kernel.accessAllowed ? 'block' : 'none';\n",
              "\n",
              "        async function convertToInteractive(key) {\n",
              "          const element = document.querySelector('#df-fe4ebc85-1079-46f6-9ada-0718fdb7902d');\n",
              "          const dataTable =\n",
              "            await google.colab.kernel.invokeFunction('convertToInteractive',\n",
              "                                                     [key], {});\n",
              "          if (!dataTable) return;\n",
              "\n",
              "          const docLinkHtml = 'Like what you see? Visit the ' +\n",
              "            '<a target=\"_blank\" href=https://colab.research.google.com/notebooks/data_table.ipynb>data table notebook</a>'\n",
              "            + ' to learn more about interactive tables.';\n",
              "          element.innerHTML = '';\n",
              "          dataTable['output_type'] = 'display_data';\n",
              "          await google.colab.output.renderOutput(dataTable, element);\n",
              "          const docLink = document.createElement('div');\n",
              "          docLink.innerHTML = docLinkHtml;\n",
              "          element.appendChild(docLink);\n",
              "        }\n",
              "      </script>\n",
              "    </div>\n",
              "  </div>\n",
              "  "
            ]
          },
          "metadata": {},
          "execution_count": 8
        }
      ]
    },
    {
      "cell_type": "code",
      "source": [
        "len(mydata.columns) "
      ],
      "metadata": {
        "colab": {
          "base_uri": "https://localhost:8080/"
        },
        "id": "jp6KKZR6OnkO",
        "outputId": "63e3f86c-9ea8-4705-e76d-2108db1e3216"
      },
      "execution_count": 9,
      "outputs": [
        {
          "output_type": "execute_result",
          "data": {
            "text/plain": [
              "45"
            ]
          },
          "metadata": {},
          "execution_count": 9
        }
      ]
    },
    {
      "cell_type": "code",
      "metadata": {
        "id": "ES6mgRc8-VOM",
        "colab": {
          "base_uri": "https://localhost:8080/"
        },
        "outputId": "82733bdf-e371-41b5-d3fc-25e7a5d50a21"
      },
      "source": [
        "# Times at which to split train/validation and validation/test\n",
        "val_time = 24500\n",
        "test_time = 29750\n",
        "\n",
        "# How much data from the past should we need for a forecast?\n",
        "window_len = 24 # 24-hour\n",
        "# How far ahead do we want to generate forecasts?\n",
        "forecast_len = 1 # one-hour ahead\n",
        "\n",
        "# Auxiliary constants\n",
        "n_total_features = len(mydata.columns) \n",
        "n_aleatoric_features = len(['Load','LBMP'])\n",
        "n_deterministic_features = n_total_features - n_aleatoric_features\n",
        "\n",
        "# Splitting dataset into train/val/test\n",
        "training_data = mydata.iloc[:val_time]\n",
        "validation_data = mydata.iloc[val_time:test_time]\n",
        "test_data = mydata.iloc[test_time:]\n",
        "\n",
        "\n",
        "# Now we get training, validation, and test as tf.data.Dataset objects\n",
        "\n",
        "batch_size = 32\n",
        "\n",
        "training_windowed = create_dataset(training_data, \n",
        "                                   n_deterministic_features,\n",
        "                                   window_len,\n",
        "                                   forecast_len,\n",
        "                                   batch_size)\n",
        "\n",
        "validation_windowed = create_dataset(validation_data, \n",
        "                                     n_deterministic_features,\n",
        "                                     window_len,\n",
        "                                     forecast_len,\n",
        "                                     batch_size)\n",
        "\n",
        "test_windowed = create_dataset(test_data, \n",
        "                               n_deterministic_features,\n",
        "                               window_len,\n",
        "                               forecast_len,\n",
        "                               batch_size=1)"
      ],
      "execution_count": 10,
      "outputs": [
        {
          "output_type": "stream",
          "name": "stderr",
          "text": [
            "WARNING:tensorflow:From /usr/local/lib/python3.9/dist-packages/tensorflow/python/autograph/pyct/static_analysis/liveness.py:83: Analyzer.lamba_check (from tensorflow.python.autograph.pyct.static_analysis.liveness) is deprecated and will be removed after 2023-09-23.\n",
            "Instructions for updating:\n",
            "Lambda fuctions will be no more assumed to be used in the statement where they are used, or at least in the same block. https://github.com/tensorflow/tensorflow/issues/56089\n"
          ]
        }
      ]
    },
    {
      "cell_type": "markdown",
      "source": [
        "✈ 🏸 stack lstm \n",
        "\n",
        "✈ 🏸 latent dim\n",
        "\n",
        "✈ 🏸 Dense\n",
        "\n",
        "✈ 🏸 MAPE\n",
        "\n",
        "✈ 🏸 encoder input & decoder input"
      ],
      "metadata": {
        "id": "0mL-Yueov79n"
      }
    },
    {
      "cell_type": "markdown",
      "source": [
        "encoder"
      ],
      "metadata": {
        "id": "5IYlxR5Y-lXv"
      }
    },
    {
      "cell_type": "code",
      "metadata": {
        "id": "DLBKjT0R85wg"
      },
      "source": [
        "latent_dim = 16\n",
        "\n",
        "# First branch of the net is an lstm which finds an embedding for the past\n",
        "past_inputs = tf.keras.Input(shape=(window_len,n_total_features), name='past_inputs')\n",
        "# Encoding the past\n",
        "encoder = tf.keras.layers.LSTM(latent_dim, return_state=True,    \n",
        "                               return_sequences=True  ### change it to True in order to get 3D output for dot function\n",
        ")\n",
        "encoder_outputs, state_h, state_c = encoder(past_inputs)\n",
        "\n"
      ],
      "execution_count": 11,
      "outputs": []
    },
    {
      "cell_type": "markdown",
      "source": [
        "decoder + attention"
      ],
      "metadata": {
        "id": "nSEFl_Eh-odh"
      }
    },
    {
      "cell_type": "code",
      "source": [
        "from keras.layers import Activation, dot, concatenate"
      ],
      "metadata": {
        "id": "U6wHeW6oBYvI"
      },
      "execution_count": 12,
      "outputs": []
    },
    {
      "cell_type": "markdown",
      "source": [
        "✈ 🏸 Different  kind of attention"
      ],
      "metadata": {
        "id": "97LEnboYIgHv"
      }
    },
    {
      "cell_type": "code",
      "source": [
        "future_inputs = tf.keras.Input(shape=(forecast_len,n_deterministic_features), name='future_inputs')\n",
        "# Combining future inputs with recurrent branch output\n",
        "decoder_lstm = tf.keras.layers.LSTM(latent_dim, return_sequences=True)\n",
        "x = decoder_lstm(future_inputs, \n",
        "                               initial_state=[state_h, state_c])\n",
        "\n",
        "decoder_outputs=x\n",
        "attention = dot([decoder_outputs, encoder_outputs], axes=[2, 2])\n",
        "\n",
        "attention = Activation('softmax')(attention)\n",
        "context = dot([attention, encoder_outputs], axes=[2,1])\n",
        "decoder_outputs = concatenate([context, decoder_outputs])\n",
        "x = tf.keras.layers.Dense(16, activation='relu')(decoder_outputs)\n",
        "x = tf.keras.layers.Dense(16, activation='relu')(x)\n",
        "output = tf.keras.layers.Dense(1, activation='relu')(x)"
      ],
      "metadata": {
        "id": "cs6oqJm5CV8o"
      },
      "execution_count": 13,
      "outputs": []
    },
    {
      "cell_type": "code",
      "source": [
        "model = tf.keras.models.Model(inputs=[past_inputs,future_inputs], outputs=output)\n",
        "\n",
        "optimizer = tf.keras.optimizers.Adam()\n",
        "loss = tf.keras.losses.Huber()\n",
        "model.compile(loss=loss, optimizer=optimizer, metrics=[\"mae\"])"
      ],
      "metadata": {
        "id": "43Xf-e75__df"
      },
      "execution_count": 14,
      "outputs": []
    },
    {
      "cell_type": "code",
      "source": [
        "history = model.fit(training_windowed,epochs=5, validation_data=validation_windowed)"
      ],
      "metadata": {
        "colab": {
          "base_uri": "https://localhost:8080/"
        },
        "id": "C4Q8XkMK8Q8I",
        "outputId": "025084a6-67fd-4c72-803a-6e7389213e52"
      },
      "execution_count": 15,
      "outputs": [
        {
          "output_type": "stream",
          "name": "stdout",
          "text": [
            "Epoch 1/5\n",
            "765/765 [==============================] - 40s 32ms/step - loss: 0.0053 - mae: 0.0717 - val_loss: 9.9660e-04 - val_mae: 0.0360\n",
            "Epoch 2/5\n",
            "765/765 [==============================] - 21s 22ms/step - loss: 7.9151e-04 - mae: 0.0311 - val_loss: 3.1490e-04 - val_mae: 0.0198\n",
            "Epoch 3/5\n",
            "765/765 [==============================] - 19s 20ms/step - loss: 3.0813e-04 - mae: 0.0195 - val_loss: 2.3559e-04 - val_mae: 0.0171\n",
            "Epoch 4/5\n",
            "765/765 [==============================] - 20s 21ms/step - loss: 2.1088e-04 - mae: 0.0163 - val_loss: 1.7574e-04 - val_mae: 0.0151\n",
            "Epoch 5/5\n",
            "765/765 [==============================] - 20s 21ms/step - loss: 1.8153e-04 - mae: 0.0152 - val_loss: 1.5421e-04 - val_mae: 0.0141\n"
          ]
        }
      ]
    },
    {
      "cell_type": "code",
      "source": [],
      "metadata": {
        "id": "IpuUyUsmHvuf"
      },
      "execution_count": 15,
      "outputs": []
    },
    {
      "cell_type": "markdown",
      "source": [
        "✈ 🏸 best epoch + early stopping"
      ],
      "metadata": {
        "id": "axVniqskwPli"
      }
    },
    {
      "cell_type": "markdown",
      "source": [
        "✈ 🏸 plot of loss and val_loss"
      ],
      "metadata": {
        "id": "mbs86FZewV7S"
      }
    },
    {
      "cell_type": "code",
      "source": [
        "model.evaluate(test_windowed)"
      ],
      "metadata": {
        "colab": {
          "base_uri": "https://localhost:8080/"
        },
        "id": "ftA-FvkX8jhn",
        "outputId": "308f2071-78c7-412e-88e8-9dcb12446181"
      },
      "execution_count": 17,
      "outputs": [
        {
          "output_type": "stream",
          "name": "stdout",
          "text": [
            "5266/5266 [==============================] - 41s 8ms/step - loss: 1.7531e-04 - mae: 0.0149\n"
          ]
        },
        {
          "output_type": "execute_result",
          "data": {
            "text/plain": [
              "[0.00017531208868604153, 0.014920123852789402]"
            ]
          },
          "metadata": {},
          "execution_count": 17
        }
      ]
    },
    {
      "cell_type": "markdown",
      "source": [
        "✈ 🏸 name different layers in order to ck them"
      ],
      "metadata": {
        "id": "CFxd8uYcI0n8"
      }
    },
    {
      "cell_type": "code",
      "source": [
        "model.summary()"
      ],
      "metadata": {
        "colab": {
          "base_uri": "https://localhost:8080/"
        },
        "id": "2P7VYc8WIuTn",
        "outputId": "236148dc-15b7-43be-9c55-94c3ddce4d38"
      },
      "execution_count": 18,
      "outputs": [
        {
          "output_type": "stream",
          "name": "stdout",
          "text": [
            "Model: \"model\"\n",
            "__________________________________________________________________________________________________\n",
            " Layer (type)                   Output Shape         Param #     Connected to                     \n",
            "==================================================================================================\n",
            " past_inputs (InputLayer)       [(None, 24, 45)]     0           []                               \n",
            "                                                                                                  \n",
            " future_inputs (InputLayer)     [(None, 1, 43)]      0           []                               \n",
            "                                                                                                  \n",
            " lstm (LSTM)                    [(None, 24, 16),     3968        ['past_inputs[0][0]']            \n",
            "                                 (None, 16),                                                      \n",
            "                                 (None, 16)]                                                      \n",
            "                                                                                                  \n",
            " lstm_1 (LSTM)                  (None, 1, 16)        3840        ['future_inputs[0][0]',          \n",
            "                                                                  'lstm[0][1]',                   \n",
            "                                                                  'lstm[0][2]']                   \n",
            "                                                                                                  \n",
            " dot (Dot)                      (None, 1, 24)        0           ['lstm_1[0][0]',                 \n",
            "                                                                  'lstm[0][0]']                   \n",
            "                                                                                                  \n",
            " activation (Activation)        (None, 1, 24)        0           ['dot[0][0]']                    \n",
            "                                                                                                  \n",
            " dot_1 (Dot)                    (None, 1, 16)        0           ['activation[0][0]',             \n",
            "                                                                  'lstm[0][0]']                   \n",
            "                                                                                                  \n",
            " concatenate (Concatenate)      (None, 1, 32)        0           ['dot_1[0][0]',                  \n",
            "                                                                  'lstm_1[0][0]']                 \n",
            "                                                                                                  \n",
            " dense (Dense)                  (None, 1, 16)        528         ['concatenate[0][0]']            \n",
            "                                                                                                  \n",
            " dense_1 (Dense)                (None, 1, 16)        272         ['dense[0][0]']                  \n",
            "                                                                                                  \n",
            " dense_2 (Dense)                (None, 1, 1)         17          ['dense_1[0][0]']                \n",
            "                                                                                                  \n",
            "==================================================================================================\n",
            "Total params: 8,625\n",
            "Trainable params: 8,625\n",
            "Non-trainable params: 0\n",
            "__________________________________________________________________________________________________\n"
          ]
        }
      ]
    },
    {
      "cell_type": "markdown",
      "source": [
        "[Plot a tensorflow model](https://towardsdatascience.com/plot-a-tensorflow-model-with-keras-functional-api-f2db639dbbd8)"
      ],
      "metadata": {
        "id": "7jbntPYqKFnj"
      }
    },
    {
      "cell_type": "code",
      "source": [
        "tf.keras.utils.plot_model(model, to_file=\"my_model.png\", show_shapes=True)"
      ],
      "metadata": {
        "colab": {
          "base_uri": "https://localhost:8080/",
          "height": 1000
        },
        "id": "CWbKQrLUIuQ5",
        "outputId": "76da7d10-a6b8-4309-e476-47d136674119"
      },
      "execution_count": 19,
      "outputs": [
        {
          "output_type": "execute_result",
          "data": {
            "image/png": "[encoded data removed]",
            "text/plain": [
              "<IPython.core.display.Image object>"
            ]
          },
          "metadata": {},
          "execution_count": 19
        }
      ]
    }
  ]
}