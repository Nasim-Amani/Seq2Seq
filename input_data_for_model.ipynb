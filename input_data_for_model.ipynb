{
  "nbformat": 4,
  "nbformat_minor": 0,
  "metadata": {
    "colab": {
      "provenance": []
    },
    "kernelspec": {
      "name": "python3",
      "display_name": "Python 3"
    },
    "language_info": {
      "name": "python"
    }
  },
  "cells": [
    {
      "cell_type": "markdown",
      "source": [
        "Libraries\n"
      ],
      "metadata": {
        "id": "w718-t26jjDu"
      }
    },
    {
      "cell_type": "code",
      "execution_count": 26,
      "metadata": {
        "id": "T3XVJEvqjhX2"
      },
      "outputs": [],
      "source": [
        "import numpy as np # linear algebra\n",
        "\n",
        "import pandas as pd # data processing, CSV file I/O (e.g. pd.read_csv)\n",
        "\n",
        "from datetime import datetime, date \n",
        "\n",
        "#from sklearn.model_selection import TimeSeriesSplit\n",
        "from sklearn.model_selection import train_test_split\n",
        "from sklearn.metrics import mean_squared_error\n",
        "\n",
        "from keras.models import Sequential\n",
        "from keras.layers import LSTM\n",
        "from keras.layers import Dense\n",
        "from keras.utils.vis_utils import plot_model\n",
        "import tensorflow as tf\n",
        "\n",
        "import matplotlib.pyplot as plt\n",
        "plt.rcParams.update({'font.size': 14})\n",
        "import seaborn as sns\n",
        "\n",
        "from IPython.display import display_html # To visualize dataframes side by side\n",
        "import os\n",
        "N_EPOCHS = 32\n",
        "SEED = 42\n",
        "\n",
        "# Fix seed for reproducible results\n",
        "os.environ['PYTHONHASHSEED']=str(SEED)\n",
        "seed(SEED)\n",
        "np.random.seed(SEED)\n",
        "tf.random.set_seed(SEED)\n"
      ]
    },
    {
      "cell_type": "markdown",
      "source": [
        "Read Data"
      ],
      "metadata": {
        "id": "3l3f2VcvjpK3"
      }
    },
    {
      "cell_type": "code",
      "source": [
        "#import pandas as pd\n",
        "data=pd.read_csv(\"data.CSV\" )\n",
        "data['Date'] = pd.to_datetime(data['Date'])\n",
        "dataset=data.set_index(data['Date'], drop=False, append=False, inplace=False, verify_integrity=False).drop('Date', 1)\n",
        "#dataset.head(2)\n",
        "#data"
      ],
      "metadata": {
        "colab": {
          "base_uri": "https://localhost:8080/"
        },
        "id": "gva9LwB3joo-",
        "outputId": "0deccc80-d541-4c74-96f0-859d8ca5be62"
      },
      "execution_count": 27,
      "outputs": [
        {
          "output_type": "stream",
          "name": "stderr",
          "text": [
            "<ipython-input-27-f03babacb84e>:4: FutureWarning: In a future version of pandas all arguments of DataFrame.drop except for the argument 'labels' will be keyword-only\n",
            "  dataset=data.set_index(data['Date'], drop=False, append=False, inplace=False, verify_integrity=False).drop('Date', 1)\n"
          ]
        }
      ]
    },
    {
      "cell_type": "code",
      "source": [],
      "metadata": {
        "id": "t6UAhPs6kWzB"
      },
      "execution_count": 27,
      "outputs": []
    },
    {
      "cell_type": "code",
      "source": [
        "def split_sequences(features, targets, n_steps_in, n_steps_out, n_sliding_steps, window_type):\n",
        "    \"\"\"\n",
        "    Edited from \n",
        "    https://machinelearningmastery.com/how-to-develop-lstm-models-for-time-series-forecasting/\n",
        "    \n",
        "    Args:\n",
        "    * features: univariate or multivariate input sequences\n",
        "    * targets: univariate or multivariate output sequences\n",
        "    * n_steps_in: length of input sequence for sliding window. \n",
        "    * n_steps_out: length of output sequence\n",
        "    * n_sliding_steps: window step size\n",
        "    * window_type: 'sliding' or 'expanding'\n",
        "    \"\"\"\n",
        "    X, y = list(), list()\n",
        "    for i in range(0, len(features), n_sliding_steps):\n",
        "\n",
        "        # find the end of this pattern\n",
        "        end_ix = i + n_steps_in\n",
        "        out_end_ix = end_ix + n_steps_out\n",
        "        # check if we are beyond the sequences\n",
        "        if out_end_ix > len(features):\n",
        "            break\n",
        "            \n",
        "        # gather input and output parts of the pattern\n",
        "        if window_type == 'sliding': # Sliding window\n",
        "            seq_x, seq_y = features[i:end_ix, :], targets[end_ix:out_end_ix, :]\n",
        "        else: # expanding window\n",
        "            seq_x, seq_y = features[0:end_ix, :], targets[end_ix:out_end_ix, :]\n",
        "        X.append(seq_x)\n",
        "        y.append(seq_y)\n",
        "    return np.array(X), np.array(y)"
      ],
      "metadata": {
        "id": "ZzNuc6SFNpHq"
      },
      "execution_count": 28,
      "outputs": []
    },
    {
      "cell_type": "code",
      "source": [
        "input_seq_length = 24 \n",
        "output_seq_length = 1 #prediction horizon\n",
        "\n",
        "input_cols = ['Date', 'Load']\n",
        "output_cols = input_cols\n",
        "\n",
        "ts_df=data\n",
        "\n",
        "X_all, y_all =split_sequences(ts_df[input_cols].values, \n",
        "                       ts_df[output_cols].values, \n",
        "                       n_steps_in = input_seq_length, \n",
        "                       n_steps_out = output_seq_length, \n",
        "                       n_sliding_steps = 5, \n",
        "                       window_type='sliding')\n",
        "\n",
        "n_samples = X_all.shape[0]\n",
        "print(f\"Total of {n_samples} samples created.\")"
      ],
      "metadata": {
        "colab": {
          "base_uri": "https://localhost:8080/"
        },
        "id": "CFx8FDmYkHyT",
        "outputId": "11c5c2b9-981e-4a8a-a621-848e66824861"
      },
      "execution_count": 31,
      "outputs": [
        {
          "output_type": "stream",
          "name": "stdout",
          "text": [
            "Total of 225 samples created.\n"
          ]
        }
      ]
    },
    {
      "cell_type": "code",
      "execution_count": 17,
      "metadata": {
        "_kg_hide-input": true,
        "execution": {
          "iopub.execute_input": "2022-03-15T08:33:44.723174Z",
          "iopub.status.busy": "2022-03-15T08:33:44.721917Z",
          "iopub.status.idle": "2022-03-15T08:33:47.571217Z",
          "shell.execute_reply": "2022-03-15T08:33:47.570491Z"
        },
        "papermill": {
          "duration": 2.989494,
          "end_time": "2022-03-15T08:33:47.571351",
          "exception": false,
          "start_time": "2022-03-15T08:33:44.581857",
          "status": "completed"
        },
        "tags": [],
        "id": "hARtQoUYCbkG",
        "outputId": "aaa00b76-79ec-488f-eb66-402733120d5e",
        "colab": {
          "base_uri": "https://localhost:8080/"
        }
      },
      "outputs": [
        {
          "output_type": "stream",
          "name": "stdout",
          "text": [
            "(179, 24, 1) (45, 24, 1) (179, 1) (45, 1)\n"
          ]
        }
      ],
      "source": [
        "# Data for training/validation\n",
        "X = X_all[:(n_samples -output_seq_length)]\n",
        "y = y_all[:(n_samples - output_seq_length)]\n",
        "\n",
        "# Data for testing\n",
        "X_test = X_all[(n_samples - output_seq_length):]\n",
        "y_test = y_all[(n_samples - output_seq_length):]\n",
        "\n",
        "n_features = X_all.shape[2] - 1 # column timestep is not a feature\n",
        "\n",
        "\n",
        "# Split training and validation data\n",
        "X_train, X_val, y_train, y_val = train_test_split(X, y, test_size=0.2, shuffle=False)\n",
        "\n",
        "# Covert to float and reshape\n",
        "index_X_train = X_train[:, :, 0]\n",
        "index_y_train = y_train[:, :, 0]\n",
        "index_X_val = X_val[:, :, 0]\n",
        "index_y_val = y_val[:, :, 0]\n",
        "index_X_test = X_test[:, :, 0]\n",
        "index_y_test = y_test[:, :, 0]\n",
        "\n",
        "X_train = X_train[:, :, 1].astype(float).reshape((X_train.shape[0], input_seq_length, n_features))\n",
        "y_train = y_train[:, :, 1].astype(float)\n",
        "\n",
        "X_val = X_val[:, :, 1].astype(float).reshape((X_val.shape[0], input_seq_length, n_features))\n",
        "y_val = y_val[:, :, 1].astype(float)\n",
        "\n",
        "X_test = X_test[:, :, 1].astype(float).reshape((X_test.shape[0], input_seq_length, n_features))\n",
        "y_test = y_test[:, :, 1].astype(float)\n",
        "\n",
        "print(X_train.shape,X_val.shape,y_train.shape,y_val.shape )"
      ]
    },
    {
      "cell_type": "code",
      "source": [],
      "metadata": {
        "id": "2oJAHadFkfVG"
      },
      "execution_count": null,
      "outputs": []
    }
  ]
}